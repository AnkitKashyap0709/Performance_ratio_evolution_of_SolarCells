{
  "nbformat": 4,
  "nbformat_minor": 0,
  "metadata": {
    "colab": {
      "provenance": []
    },
    "kernelspec": {
      "name": "python3",
      "display_name": "Python 3"
    },
    "language_info": {
      "name": "python"
    }
  },
  "cells": [
    {
      "cell_type": "code",
      "execution_count": null,
      "metadata": {
        "id": "h-790NgfWcGD"
      },
      "outputs": [],
      "source": [
        "import numpy as np\n",
        "import pandas as pd\n",
        "import matplotlib.pyplot as plt\n",
        "from datetime import datetime\n",
        "import math as m\n",
        "from matplotlib.lines import Line2D\n",
        "\n",
        "df = pd.read_csv(r'/content/sample_data/Cleantech Solar.csv')\n",
        "df['Date'] = pd.to_datetime(df['Date'], infer_datetime_format = True) # The date-time format is set to true for faster parsing inside the dataset\n",
        "\n",
        "fig, ax = plt.subplots(figsize = (12, 8)) # The figsize parameter is used to specify the width and height of the figure in inches. In this case, the figure size is set to 12 inches by 8 inches.\n",
        "\n",
        "conditions = [(df['GHI'] < 2),\n",
        "              (df['GHI'] >= 2) & (df['GHI'] < 4),\n",
        "              (df['GHI'] >= 4) & (df['GHI'] < 6),\n",
        "              (df['GHI'] >= 6)]\n",
        "colors = ['navy', 'cyan', 'orange', 'brown']\n",
        "ax.scatter(df['Date'], df['PR'], c = np.select(conditions, colors), s = 5) # All the scatter points are plotted inside the graph and their individual colors are set according to GHI\n",
        "\n",
        "rolling_mean = df['PR'].rolling(window = 30).mean()\n",
        "a, = ax.plot(df['Date'], rolling_mean, color = 'red', linewidth = 2.2, label = '30-d moving average of PR') # Plot for the 30-d moving average of PR\n",
        "\n",
        "ax.set_title('Performance Ratio Evolution (From 2019-07-01 to 2022-03-24)')\n",
        "ax.set_xlabel('Date')\n",
        "ax.set_ylabel('Performance Ratio [%]')\n",
        "\n",
        "ax.set_ylim(ymin = 0)\n",
        "ax.set_ylim(ymax = 100)\n",
        "ax.set_yticks(range(0, 110, 10))\n"
      ]
    },
    {
      "cell_type": "code",
      "source": [
        "# All the calculations are done for plotting the Target Budget Yield Performance Ratio. First the a list of budget data is calculated and then it is mapped with all the dates with the PR column.\n",
        "start_date = pd.to_datetime('2019-07-01')\n",
        "end_date = pd.to_datetime('2022-03-24')\n",
        "num_years = m.ceil((end_date.year - start_date.year) + ((end_date.month - start_date.month) / 12))\n",
        "budget_list = [73.9 * (1 - 0.008 * i) for i in range(num_years)]\n",
        "\n",
        "# The Date column is converted to a list to map with the budget_list elements\n",
        "df['Date'] = pd.to_datetime(df['Date'])\n",
        "l = df['Date'].tolist()\n",
        "\n",
        "# All the Dates are passed inside the condition for it to be mapped with the budget_list after every one passing year.\n",
        "labels = []\n",
        "for date in l:\n",
        "    if date < datetime(2020, 7, 1):\n",
        "        labels.append(budget_list[0])\n",
        "    elif date < datetime(2021, 7, 1):\n",
        "        labels.append(budget_list[1])\n",
        "    else:\n",
        "        labels.append(budget_list[2])"
      ],
      "metadata": {
        "id": "cNiHgnIvDvjf"
      },
      "execution_count": null,
      "outputs": []
    },
    {
      "cell_type": "code",
      "source": [
        "b, = ax.plot(l, labels, color = 'darkgreen', linewidth = 1.5, label = 'Target Budget Yield Performance Ratio [1Y-73.9%, 2Y-73.3%, 3Y-72.7%]') # Final Plot for the Target Budget\n",
        "\n",
        "# For calculating the total no. of scatter points that are above the target budget performance ratio\n",
        "scatter_points = df['PR']\n",
        "above_budget = np.where(scatter_points > labels[:len(df.index)])\n",
        "Above_budget = len(above_budget[0])\n",
        "c, = ax.plot([], linestyle = 'None', label = f'Points above target budget PR = {Above_budget}/{len(df)} = {round(Above_budget/len(df) * 100, 1)}%')\n",
        "\n",
        "ax.set_xlim([df['Date'].min(), pd.to_datetime('24/03/2022')]) # For setting the max"
      ],
      "metadata": {
        "id": "znnQJTm0Dkn8"
      },
      "execution_count": null,
      "outputs": []
    },
    {
      "cell_type": "code",
      "source": [
        "legend1 = ax.legend(handles=[\n",
        "    Line2D([], [], linestyle = 'None'),\n",
        "    Line2D([], [], color = 'navy', marker = 'o', linestyle = 'None', markersize = 5),\n",
        "    Line2D([], [], color = 'cyan', marker = 'o', linestyle = 'None', markersize = 5),\n",
        "    Line2D([], [], color = 'orange', marker = 'o', linestyle = 'None', markersize = 5),\n",
        "    Line2D([], [], color = 'brown', marker = 'o', linestyle = 'None', markersize = 5)\n",
        "], loc = 'upper center', labels = ['Daily Irradiation [KWh/m2]','< 2', '2 ~ 4', '4 ~ 6', '> 6'], ncol = 5, fontsize = 9)\n",
        "\n",
        "\n",
        "\n",
        "legend2 = ax.legend(handles = [b, a, c], loc = 'center', ncol = 1, fontsize = 9)\n",
        "\n",
        "day7 = round(sum(df['PR'][:7].tolist()) / 7, 1)\n",
        "day30 = round(sum(df['PR'][:30].tolist()) / 30, 1)\n",
        "day60 = round(sum(df['PR'][:60].tolist()) / 60, 1)\n",
        "day90 = round(sum(df['PR'][:90].tolist()) / 90, 1)\n",
        "day365 = round(sum(df['PR'][:365].tolist()) / 365, 1)\n",
        "life_time = round(sum(df['PR'].tolist()) / len(df['PR']), 1)\n",
        "\n",
        "legend3 = ax.legend(handles=[\n",
        "    Line2D([], [], linestyle = 'None', label = f'Average PR last 7-d: {day7}%'),\n",
        "    Line2D([], [], linestyle = 'None', label = f'Average PR last 30-d: {day30}%'),\n",
        "    Line2D([], [], linestyle = 'None', label = f'Average PR last 60-d: {day60}%'),\n",
        "    Line2D([], [], linestyle = 'None', label = f'Average PR last 90-d: {day90}%'),\n",
        "    Line2D([], [], linestyle = 'None', label = f'Average PR last 365-d: {day365}%'),\n",
        "    Line2D([], [], linestyle = 'None', label = f'Average PR Life Time: {life_time}%')\n",
        "], loc = 'lower right', fontsize = 9)"
      ],
      "metadata": {
        "id": "HMVbf2r1DcAY"
      },
      "execution_count": null,
      "outputs": []
    },
    {
      "cell_type": "code",
      "source": [
        "ax.add_artist(legend1)\n",
        "ax.add_artist(legend2)\n",
        "ax.add_artist(legend3)\n",
        "\n",
        "ax.grid(True)\n",
        "\n",
        "plt.subplots_adjust(hspace = 0.5)\n",
        "\n",
        "plt.show()"
      ],
      "metadata": {
        "id": "Sh_zf6rzDSJG"
      },
      "execution_count": null,
      "outputs": []
    }
  ]
}